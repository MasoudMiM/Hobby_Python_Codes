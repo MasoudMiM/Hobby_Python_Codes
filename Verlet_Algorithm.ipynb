{
 "metadata": {
  "name": "",
  "signature": "sha256:626d5f7731611e277824590b093a2cbf45efaf7e28556f1b631f36294f40f438"
 },
 "nbformat": 3,
 "nbformat_minor": 0,
 "worksheets": [
  {
   "cells": [
    {
     "cell_type": "code",
     "collapsed": false,
     "input": [
      "%pylab inline\n",
      "from numpy.linalg import norm\n",
      "from numpy import array, zeros\n",
      "\n",
      "def Verlet(r, v, dt, a):\n",
      "    # Deceptively\n",
      "    r_new = r + v*dt + a(r)*dt**2/2\n",
      "    v_new = v + (a(r) + a(r_new))/2 * dt\n",
      "    return (r_new, v_new)\n",
      "\n",
      "# Start main program\n",
      "if __name__==\"__main__\":\n",
      "    G = 6.673e-11 # Gravitational constant\n",
      "    MGsun = 1.98e30 * G # Mass of the sun\n",
      "    sun = array([0, 0, 0]) # Place sun at origin\n",
      "    \n",
      "    def a(r):\n",
      "        # This is just the sun's force of gravity per unit mass:\n",
      "        Asun = -MGsun * r / norm(r)**3\n",
      "        return Asun\n",
      "    \n",
      "    # Set starting values for position and velocity\n",
      "    r = array([1.2e11, 0, 0])\n",
      "    v = array([0, 30e3, 0])\n",
      "\n",
      "\n",
      "    # Simulation for 180 days with 20000 timesteps\n",
      "    T = 86400*180 # simulated time in seconds\n",
      "    N = 20000 # integration time steps\n",
      "    M = 500   # save position every M timestep\n",
      "    dt = T*1.0 / (N) # calculate timestep length in seconds\n",
      "\n",
      "    #For storing the position and velocity\n",
      "    Rlist = zeros([3,N/M])\n",
      "    Vlist = zeros([3,N/M])\n",
      "    #Initial values\n",
      "    Rlist[:,0] = r\n",
      "    Vlist[:,0] = v\n",
      "\n",
      "    print \"Integrating {} seconds with time step dt = {} seconds.\".format(T, dt)\n",
      "    print \"Total number of steps:{}\".format(N)\n",
      "    print \"Saving location every {} steps.\".format(M)\n",
      "    print \"Start.\"\n",
      "    for i in range(N/M):\n",
      "        for j in range(M):\n",
      "            r, v = Verlet(r, v, dt, a)\n",
      "        # Save values into lists\n",
      "        Rlist[:, i] = r\n",
      "        Vlist[:, i] = v\n",
      "    print \"Stop.\"\n",
      "\n",
      "    pylab.title(\"%d seconds, $dt=%f$, sampled every %.2f seconds\" % (T, dt, M*dt))\n",
      "    pylab.axis('equal')\n",
      "    pylab.axhline(color=\"black\")\n",
      "    pylab.axvline(color=\"black\")\n",
      "\n",
      "    pylab.scatter(sun[0], sun[1], 400, c=[\"y\"])\n",
      "    # Plot the orbit as a line\n",
      "    pylab.plot(Rlist[0,:], Rlist[1,:], \"-\")\n"
     ],
     "language": "python",
     "metadata": {},
     "outputs": [
      {
       "output_type": "stream",
       "stream": "stdout",
       "text": [
        "Populating the interactive namespace from numpy and matplotlib\n",
        "Integrating 15552000 seconds with time step dt = 777.6 seconds.\n",
        "Total number of steps:20000\n",
        "Saving location every 500 steps.\n",
        "Start.\n",
        "Stop."
       ]
      },
      {
       "output_type": "stream",
       "stream": "stdout",
       "text": [
        "\n"
       ]
      },
      {
       "metadata": {},
       "output_type": "display_data",
       "png": "[encoded data removed]",
       "text": [
        "<matplotlib.figure.Figure at 0x40a1970>"
       ]
      }
     ],
     "prompt_number": 1
    },
    {
     "cell_type": "code",
     "collapsed": false,
     "input": [],
     "language": "python",
     "metadata": {},
     "outputs": []
    }
   ],
   "metadata": {}
  }
 ]
}